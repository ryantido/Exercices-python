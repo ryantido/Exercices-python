{
 "cells": [
  {
   "cell_type": "code",
   "execution_count": 2,
   "id": "37e61995",
   "metadata": {},
   "outputs": [],
   "source": [
    "#exercice1\n",
    "\n",
    "def exercice1():\n",
    "    nom=input('Enter votre nom: ')\n",
    "    print('Bonjour', nom)"
   ]
  },
  {
   "cell_type": "code",
   "execution_count": 3,
   "id": "66a4c2fe-3e5a-4674-8599-0ecffb480a7e",
   "metadata": {},
   "outputs": [
    {
     "name": "stdin",
     "output_type": "stream",
     "text": [
      "Enter votre nom:  Dr.Mudget Holmes\n"
     ]
    },
    {
     "name": "stdout",
     "output_type": "stream",
     "text": [
      "Bonjour Dr.Mudget Holmes\n"
     ]
    }
   ],
   "source": [
    "exercice1()"
   ]
  },
  {
   "cell_type": "code",
   "execution_count": 4,
   "id": "e3416b11",
   "metadata": {},
   "outputs": [],
   "source": [
    "#exercice 2\n",
    "\n",
    "def exercice2():\n",
    "    a=int(input('Entrer la valeur 1 : '))\n",
    "    b=int(input('Entrer la valeur 2 : '))\n",
    "    print(a,\"+\",b,\"=\", a+b)"
   ]
  },
  {
   "cell_type": "code",
   "execution_count": 5,
   "id": "04562fcb-2893-4c15-bfcf-d1e029c3d491",
   "metadata": {},
   "outputs": [
    {
     "name": "stdin",
     "output_type": "stream",
     "text": [
      "Entrer la valeur 1 :  45\n",
      "Entrer la valeur 2 :  67\n"
     ]
    },
    {
     "name": "stdout",
     "output_type": "stream",
     "text": [
      "45 + 67 = 112\n"
     ]
    }
   ],
   "source": [
    "exercice2()"
   ]
  },
  {
   "cell_type": "markdown",
   "id": "2b7a2788",
   "metadata": {},
   "source": [
    "## Exercice 3"
   ]
  },
  {
   "cell_type": "code",
   "execution_count": 11,
   "id": "ecec6d4c",
   "metadata": {},
   "outputs": [],
   "source": [
    "#exercice 3\n",
    "\n",
    "def exercice3():\n",
    "    a=int(input('Entrer la valeur 1 : '))\n",
    "    b=int(input('Entrer la valeur 2 : '))\n",
    "    if a<b:\n",
    "        print(a, ' est plus petit que ', b)\n",
    "    elif a>b:\n",
    "        print(a, ' est plus grand que ', b)\n",
    "    else:\n",
    "        print('Valeurs égales')\n",
    "        \n",
    "# a = float(input(\"Saisir le premier nombre : \"))\n",
    "# b = float(input(\"Saisir le second nombre : \"))\n",
    "# print(f\"Le maximum entre {a} et {b} est : {max(a, b)}\")"
   ]
  },
  {
   "cell_type": "code",
   "execution_count": 12,
   "id": "92f00acd-38dd-47cc-9db7-f4a9650c5f00",
   "metadata": {},
   "outputs": [
    {
     "name": "stdin",
     "output_type": "stream",
     "text": [
      "Entrer la valeur 1 :  0\n",
      "Entrer la valeur 2 :  -1\n"
     ]
    },
    {
     "name": "stdout",
     "output_type": "stream",
     "text": [
      "0  est plus grand que  -1\n"
     ]
    }
   ],
   "source": [
    "exercice3()"
   ]
  },
  {
   "cell_type": "code",
   "execution_count": 27,
   "id": "29ec688b-e944-45ac-9534-3a229be64cfd",
   "metadata": {},
   "outputs": [],
   "source": [
    "#exercice 4\n",
    "def ex4():\n",
    "    for i in range(1,101):\n",
    "        print( i)\n",
    "        # return i"
   ]
  },
  {
   "cell_type": "code",
   "execution_count": 26,
   "id": "598c56cb-17e3-42e1-8670-2a11e5901191",
   "metadata": {},
   "outputs": [
    {
     "data": {
      "text/plain": [
       "1"
      ]
     },
     "execution_count": 26,
     "metadata": {},
     "output_type": "execute_result"
    }
   ],
   "source": [
    "ex4()"
   ]
  },
  {
   "cell_type": "code",
   "execution_count": 31,
   "id": "6eef7d6d",
   "metadata": {},
   "outputs": [],
   "source": [
    "#Exercice 5\n",
    "def parite():\n",
    "    nbr=int(input('Entrer la valeur dont on doit vérifier la parité: '))\n",
    "    if nbr%2 == 0:\n",
    "        print('\\n',nbr,'est pair')\n",
    "    else:\n",
    "        print('\\n',nbr,'est impair')"
   ]
  },
  {
   "cell_type": "code",
   "execution_count": 32,
   "id": "36d90209-a55b-44ef-8a5a-ee1561537ffb",
   "metadata": {},
   "outputs": [
    {
     "name": "stdin",
     "output_type": "stream",
     "text": [
      "Entrer la valeur dont on doit vérifier la parité:  89\n"
     ]
    },
    {
     "name": "stdout",
     "output_type": "stream",
     "text": [
      "\n",
      " 89 est impair\n"
     ]
    }
   ],
   "source": [
    "parite()"
   ]
  },
  {
   "cell_type": "markdown",
   "id": "a2d78feb",
   "metadata": {},
   "source": [
    "## Exercice 6"
   ]
  },
  {
   "cell_type": "code",
   "execution_count": 41,
   "id": "a9b80f9a",
   "metadata": {},
   "outputs": [],
   "source": [
    "#exerxice6\n",
    "\n",
    "def mature():\n",
    "    age=int(input('Entrer votre âge: '))\n",
    "    if 130 > age >= 18:\n",
    "        print('\\nVous êtes majeur !')\n",
    "    elif age > 130:\n",
    "        print(f'\\nError ! {age} est au dessus de l\\'âge de la douaine du monde (130 ans)')\n",
    "    else:\n",
    "        print('\\nVous êtes mineur !')"
   ]
  },
  {
   "cell_type": "code",
   "execution_count": 42,
   "id": "4124499e-bf55-4d44-8607-4d0d6f34f7f5",
   "metadata": {},
   "outputs": [
    {
     "name": "stdin",
     "output_type": "stream",
     "text": [
      "Entrer votre âge:  898\n"
     ]
    },
    {
     "name": "stdout",
     "output_type": "stream",
     "text": [
      "\n",
      "Error ! 898 est au dessus de l'âge de la douaine du monde (130 ans)\n"
     ]
    }
   ],
   "source": [
    "mature()"
   ]
  },
  {
   "cell_type": "markdown",
   "id": "5515e591",
   "metadata": {},
   "source": [
    "## Exercice 7"
   ]
  },
  {
   "cell_type": "code",
   "execution_count": 161,
   "id": "3a908691",
   "metadata": {},
   "outputs": [
    {
     "name": "stdin",
     "output_type": "stream",
     "text": [
      "Saisir le premier nombre :  9\n",
      "Saisir le second nombre :  -9\n",
      "Saisir le troisième nombre :  -0\n"
     ]
    },
    {
     "name": "stdout",
     "output_type": "stream",
     "text": [
      "Le max est: 9.0\n",
      "Le maximum entre 9.0, -9.0, et -0.0 est : None\n"
     ]
    }
   ],
   "source": [
    "x = float(input(\"Saisir le premier nombre : \"))\n",
    "y = float(input(\"Saisir le second nombre : \"))\n",
    "z = float(input(\"Saisir le troisième nombre : \"))\n",
    "print(f\"Le maximum entre {x}, {y}, et {z} est : {max(x, y, z)}\")\n",
    "\n",
    "def max_(x,y,z):\n",
    "    if x>=y:\n",
    "        if x>=z:\n",
    "            print('Le max est:', x)\n",
    "    elif y>=x:\n",
    "        if y>=z:\n",
    "            print('Le max est:', y)\n",
    "    elif z>=x:\n",
    "        if z>=y:\n",
    "            print('Le max est:', z)"
   ]
  },
  {
   "cell_type": "code",
   "execution_count": 162,
   "id": "b94650cb-58a6-4a0f-8f27-a5e96592ec88",
   "metadata": {},
   "outputs": [
    {
     "name": "stdout",
     "output_type": "stream",
     "text": [
      "Le max est: 999\n"
     ]
    }
   ],
   "source": [
    "max_(999,-9,-0)"
   ]
  },
  {
   "cell_type": "markdown",
   "id": "0d8c3253",
   "metadata": {},
   "source": [
    "## Exercice 8"
   ]
  },
  {
   "cell_type": "code",
   "execution_count": 47,
   "id": "d7caf265",
   "metadata": {},
   "outputs": [
    {
     "name": "stdin",
     "output_type": "stream",
     "text": [
      "Saisir un nombre entier n :  89\n"
     ]
    },
    {
     "name": "stdout",
     "output_type": "stream",
     "text": [
      "La somme des entiers de 1 à 89 est : 4005\n"
     ]
    }
   ],
   "source": [
    "n = int(input(\"Saisir un nombre entier n : \"))\n",
    "somme = sum(range(1, n + 1))\n",
    "print(f\"La somme des entiers de 1 à {n} est : {somme}\")\n",
    "\n",
    "def somme_n(n):\n",
    "    s=0\n",
    "    for i in range(1,n+1):\n",
    "        s +=i\n",
    "    print(s)"
   ]
  },
  {
   "cell_type": "code",
   "execution_count": 48,
   "id": "18560cf1-350b-4ab0-ad19-9df3267fc88e",
   "metadata": {},
   "outputs": [
    {
     "name": "stdout",
     "output_type": "stream",
     "text": [
      "45\n"
     ]
    }
   ],
   "source": [
    "somme_n(9)"
   ]
  },
  {
   "cell_type": "markdown",
   "id": "c6ecd904",
   "metadata": {},
   "source": [
    "## Exercice 9"
   ]
  },
  {
   "cell_type": "code",
   "execution_count": 49,
   "id": "6c39565a",
   "metadata": {},
   "outputs": [
    {
     "name": "stdin",
     "output_type": "stream",
     "text": [
      "Saisir un nombre entier n :  9\n"
     ]
    },
    {
     "name": "stdout",
     "output_type": "stream",
     "text": [
      "Le factoriel de 9 est : 362880\n"
     ]
    }
   ],
   "source": [
    "import math\n",
    "n = int(input(\"Saisir un nombre entier n : \"))\n",
    "print(f\"Le factoriel de {n} est : {math.factorial(n)}\")\n",
    "\n",
    "def factoriel(n):\n",
    "    f=1\n",
    "    for i in range(1,n+1):\n",
    "        f *=i\n",
    "    print('Factoriel',n,'égal: ',f)"
   ]
  },
  {
   "cell_type": "code",
   "execution_count": 50,
   "id": "1bedb166-558f-4136-9635-c39ae53a5ff9",
   "metadata": {},
   "outputs": [
    {
     "name": "stdout",
     "output_type": "stream",
     "text": [
      "Factoriel 9 égal:  362880\n"
     ]
    }
   ],
   "source": [
    "factoriel(9)"
   ]
  },
  {
   "cell_type": "markdown",
   "id": "920dbe4e",
   "metadata": {},
   "source": [
    "## Exercice 10"
   ]
  },
  {
   "cell_type": "code",
   "execution_count": 62,
   "id": "2463ab1d",
   "metadata": {},
   "outputs": [
    {
     "name": "stdin",
     "output_type": "stream",
     "text": [
      "Saisir le rayon d'un cercle :  9\n"
     ]
    },
    {
     "name": "stdout",
     "output_type": "stream",
     "text": [
      "La surface est : 254.46900494077323, et le périmètre est : 56.548667764616276.2\n"
     ]
    }
   ],
   "source": [
    "# def cercle(pi):\n",
    "#     print('Le périmètre est:',2*pi*3.14, \"\\nL'aire est:\",3.14*pi**2 )\n",
    "\n",
    "import math\n",
    "r = float(input(\"Saisir le rayon d'un cercle : \"))\n",
    "surface = math.pi * r ** 2\n",
    "perimetre = 2 * math.pi * r\n",
    "print(f\"La surface est : {surface}, et le périmètre est : {perimetre}.2\")"
   ]
  },
  {
   "cell_type": "raw",
   "id": "d3119007-cc2b-4469-b6e1-a82f2e466638",
   "metadata": {},
   "source": [
    "cercle(3)"
   ]
  },
  {
   "cell_type": "markdown",
   "id": "7a4f0769",
   "metadata": {},
   "source": [
    "## Exercice 11"
   ]
  },
  {
   "cell_type": "code",
   "execution_count": 63,
   "id": "d446d75b",
   "metadata": {},
   "outputs": [
    {
     "name": "stdin",
     "output_type": "stream",
     "text": [
      "Saisir un nombre entier n :  7\n"
     ]
    },
    {
     "name": "stdout",
     "output_type": "stream",
     "text": [
      "Les diviseurs de 7 sont : [1, 7]\n"
     ]
    }
   ],
   "source": [
    "n = int(input(\"Saisir un nombre entier n : \"))\n",
    "diviseurs = [i for i in range(1, n + 1) if n % i == 0]\n",
    "print(f\"Les diviseurs de {n} sont : {diviseurs}\")\n",
    "\n",
    "def diviseur(a):\n",
    "    for i in range(1,a+1):\n",
    "        if a%i == 0:\n",
    "            print(i, \"divise :\",a)"
   ]
  },
  {
   "cell_type": "code",
   "execution_count": 64,
   "id": "63354931-f33f-4f23-9693-c34e5e2bce31",
   "metadata": {},
   "outputs": [
    {
     "name": "stdout",
     "output_type": "stream",
     "text": [
      "1 divise : 4\n",
      "2 divise : 4\n",
      "4 divise : 4\n"
     ]
    }
   ],
   "source": [
    "diviseur(4)"
   ]
  },
  {
   "cell_type": "markdown",
   "id": "90f6076c",
   "metadata": {},
   "source": [
    "## Exercice 12"
   ]
  },
  {
   "cell_type": "code",
   "execution_count": 65,
   "id": "826cec49",
   "metadata": {},
   "outputs": [
    {
     "name": "stdin",
     "output_type": "stream",
     "text": [
      "Saisir un nombre entier n :  2\n"
     ]
    },
    {
     "name": "stdout",
     "output_type": "stream",
     "text": [
      "2 x 1 = 2\n",
      "2 x 2 = 4\n",
      "2 x 3 = 6\n",
      "2 x 4 = 8\n",
      "2 x 5 = 10\n",
      "2 x 6 = 12\n",
      "2 x 7 = 14\n",
      "2 x 8 = 16\n",
      "2 x 9 = 18\n",
      "2 x 10 = 20\n",
      "\n",
      "Table de multiplication de 1:\n",
      "1 x 1 = 1\n",
      "1 x 2 = 2\n",
      "1 x 3 = 3\n",
      "1 x 4 = 4\n",
      "1 x 5 = 5\n",
      "1 x 6 = 6\n",
      "1 x 7 = 7\n",
      "1 x 8 = 8\n",
      "1 x 9 = 9\n",
      "1 x 10 = 10\n",
      "\n",
      "Table de multiplication de 2:\n",
      "2 x 1 = 2\n",
      "2 x 2 = 4\n",
      "2 x 3 = 6\n",
      "2 x 4 = 8\n",
      "2 x 5 = 10\n",
      "2 x 6 = 12\n",
      "2 x 7 = 14\n",
      "2 x 8 = 16\n",
      "2 x 9 = 18\n",
      "2 x 10 = 20\n",
      "\n",
      "Table de multiplication de 3:\n",
      "3 x 1 = 3\n",
      "3 x 2 = 6\n",
      "3 x 3 = 9\n",
      "3 x 4 = 12\n",
      "3 x 5 = 15\n",
      "3 x 6 = 18\n",
      "3 x 7 = 21\n",
      "3 x 8 = 24\n",
      "3 x 9 = 27\n",
      "3 x 10 = 30\n",
      "\n",
      "Table de multiplication de 4:\n",
      "4 x 1 = 4\n",
      "4 x 2 = 8\n",
      "4 x 3 = 12\n",
      "4 x 4 = 16\n",
      "4 x 5 = 20\n",
      "4 x 6 = 24\n",
      "4 x 7 = 28\n",
      "4 x 8 = 32\n",
      "4 x 9 = 36\n",
      "4 x 10 = 40\n",
      "\n",
      "Table de multiplication de 5:\n",
      "5 x 1 = 5\n",
      "5 x 2 = 10\n",
      "5 x 3 = 15\n",
      "5 x 4 = 20\n",
      "5 x 5 = 25\n",
      "5 x 6 = 30\n",
      "5 x 7 = 35\n",
      "5 x 8 = 40\n",
      "5 x 9 = 45\n",
      "5 x 10 = 50\n",
      "\n",
      "Table de multiplication de 6:\n",
      "6 x 1 = 6\n",
      "6 x 2 = 12\n",
      "6 x 3 = 18\n",
      "6 x 4 = 24\n",
      "6 x 5 = 30\n",
      "6 x 6 = 36\n",
      "6 x 7 = 42\n",
      "6 x 8 = 48\n",
      "6 x 9 = 54\n",
      "6 x 10 = 60\n",
      "\n",
      "Table de multiplication de 7:\n",
      "7 x 1 = 7\n",
      "7 x 2 = 14\n",
      "7 x 3 = 21\n",
      "7 x 4 = 28\n",
      "7 x 5 = 35\n",
      "7 x 6 = 42\n",
      "7 x 7 = 49\n",
      "7 x 8 = 56\n",
      "7 x 9 = 63\n",
      "7 x 10 = 70\n",
      "\n",
      "Table de multiplication de 8:\n",
      "8 x 1 = 8\n",
      "8 x 2 = 16\n",
      "8 x 3 = 24\n",
      "8 x 4 = 32\n",
      "8 x 5 = 40\n",
      "8 x 6 = 48\n",
      "8 x 7 = 56\n",
      "8 x 8 = 64\n",
      "8 x 9 = 72\n",
      "8 x 10 = 80\n",
      "\n",
      "Table de multiplication de 9:\n",
      "9 x 1 = 9\n",
      "9 x 2 = 18\n",
      "9 x 3 = 27\n",
      "9 x 4 = 36\n",
      "9 x 5 = 45\n",
      "9 x 6 = 54\n",
      "9 x 7 = 63\n",
      "9 x 8 = 72\n",
      "9 x 9 = 81\n",
      "9 x 10 = 90\n"
     ]
    }
   ],
   "source": [
    "# Partie 1\n",
    "n = int(input(\"Saisir un nombre entier n : \"))\n",
    "for i in range(1, 11):\n",
    "    print(f\"{n} x {i} = {n * i}\")\n",
    "\n",
    "# Partie 2\n",
    "for n in range(1, 10):\n",
    "    print(f\"\\nTable de multiplication de {n}:\")\n",
    "    for i in range(1, 11):\n",
    "        print(f\"{n} x {i} = {n * i}\")\n",
    "\n",
    "def multiplication(n):\n",
    "    for i in range(13):\n",
    "        print(n,'x',i,'=',n*i,'\\n')\n",
    "\n",
    "    print(\"\\nTable de multiplication des entiers entre [1;9]\\n\")\n",
    "    for j in range(1,10):\n",
    "        for k in range(13):\n",
    "            print(j,'x',k,'=',j*k,'\\n')"
   ]
  },
  {
   "cell_type": "code",
   "execution_count": 66,
   "id": "94b527f0-811a-42c1-8b42-518463661447",
   "metadata": {},
   "outputs": [
    {
     "name": "stdout",
     "output_type": "stream",
     "text": [
      "16 x 0 = 0 \n",
      "\n",
      "16 x 1 = 16 \n",
      "\n",
      "16 x 2 = 32 \n",
      "\n",
      "16 x 3 = 48 \n",
      "\n",
      "16 x 4 = 64 \n",
      "\n",
      "16 x 5 = 80 \n",
      "\n",
      "16 x 6 = 96 \n",
      "\n",
      "16 x 7 = 112 \n",
      "\n",
      "16 x 8 = 128 \n",
      "\n",
      "16 x 9 = 144 \n",
      "\n",
      "16 x 10 = 160 \n",
      "\n",
      "16 x 11 = 176 \n",
      "\n",
      "16 x 12 = 192 \n",
      "\n",
      "\n",
      "Table de multiplication des entiers entre [1;9]\n",
      "\n",
      "1 x 0 = 0 \n",
      "\n",
      "1 x 1 = 1 \n",
      "\n",
      "1 x 2 = 2 \n",
      "\n",
      "1 x 3 = 3 \n",
      "\n",
      "1 x 4 = 4 \n",
      "\n",
      "1 x 5 = 5 \n",
      "\n",
      "1 x 6 = 6 \n",
      "\n",
      "1 x 7 = 7 \n",
      "\n",
      "1 x 8 = 8 \n",
      "\n",
      "1 x 9 = 9 \n",
      "\n",
      "1 x 10 = 10 \n",
      "\n",
      "1 x 11 = 11 \n",
      "\n",
      "1 x 12 = 12 \n",
      "\n",
      "2 x 0 = 0 \n",
      "\n",
      "2 x 1 = 2 \n",
      "\n",
      "2 x 2 = 4 \n",
      "\n",
      "2 x 3 = 6 \n",
      "\n",
      "2 x 4 = 8 \n",
      "\n",
      "2 x 5 = 10 \n",
      "\n",
      "2 x 6 = 12 \n",
      "\n",
      "2 x 7 = 14 \n",
      "\n",
      "2 x 8 = 16 \n",
      "\n",
      "2 x 9 = 18 \n",
      "\n",
      "2 x 10 = 20 \n",
      "\n",
      "2 x 11 = 22 \n",
      "\n",
      "2 x 12 = 24 \n",
      "\n",
      "3 x 0 = 0 \n",
      "\n",
      "3 x 1 = 3 \n",
      "\n",
      "3 x 2 = 6 \n",
      "\n",
      "3 x 3 = 9 \n",
      "\n",
      "3 x 4 = 12 \n",
      "\n",
      "3 x 5 = 15 \n",
      "\n",
      "3 x 6 = 18 \n",
      "\n",
      "3 x 7 = 21 \n",
      "\n",
      "3 x 8 = 24 \n",
      "\n",
      "3 x 9 = 27 \n",
      "\n",
      "3 x 10 = 30 \n",
      "\n",
      "3 x 11 = 33 \n",
      "\n",
      "3 x 12 = 36 \n",
      "\n",
      "4 x 0 = 0 \n",
      "\n",
      "4 x 1 = 4 \n",
      "\n",
      "4 x 2 = 8 \n",
      "\n",
      "4 x 3 = 12 \n",
      "\n",
      "4 x 4 = 16 \n",
      "\n",
      "4 x 5 = 20 \n",
      "\n",
      "4 x 6 = 24 \n",
      "\n",
      "4 x 7 = 28 \n",
      "\n",
      "4 x 8 = 32 \n",
      "\n",
      "4 x 9 = 36 \n",
      "\n",
      "4 x 10 = 40 \n",
      "\n",
      "4 x 11 = 44 \n",
      "\n",
      "4 x 12 = 48 \n",
      "\n",
      "5 x 0 = 0 \n",
      "\n",
      "5 x 1 = 5 \n",
      "\n",
      "5 x 2 = 10 \n",
      "\n",
      "5 x 3 = 15 \n",
      "\n",
      "5 x 4 = 20 \n",
      "\n",
      "5 x 5 = 25 \n",
      "\n",
      "5 x 6 = 30 \n",
      "\n",
      "5 x 7 = 35 \n",
      "\n",
      "5 x 8 = 40 \n",
      "\n",
      "5 x 9 = 45 \n",
      "\n",
      "5 x 10 = 50 \n",
      "\n",
      "5 x 11 = 55 \n",
      "\n",
      "5 x 12 = 60 \n",
      "\n",
      "6 x 0 = 0 \n",
      "\n",
      "6 x 1 = 6 \n",
      "\n",
      "6 x 2 = 12 \n",
      "\n",
      "6 x 3 = 18 \n",
      "\n",
      "6 x 4 = 24 \n",
      "\n",
      "6 x 5 = 30 \n",
      "\n",
      "6 x 6 = 36 \n",
      "\n",
      "6 x 7 = 42 \n",
      "\n",
      "6 x 8 = 48 \n",
      "\n",
      "6 x 9 = 54 \n",
      "\n",
      "6 x 10 = 60 \n",
      "\n",
      "6 x 11 = 66 \n",
      "\n",
      "6 x 12 = 72 \n",
      "\n",
      "7 x 0 = 0 \n",
      "\n",
      "7 x 1 = 7 \n",
      "\n",
      "7 x 2 = 14 \n",
      "\n",
      "7 x 3 = 21 \n",
      "\n",
      "7 x 4 = 28 \n",
      "\n",
      "7 x 5 = 35 \n",
      "\n",
      "7 x 6 = 42 \n",
      "\n",
      "7 x 7 = 49 \n",
      "\n",
      "7 x 8 = 56 \n",
      "\n",
      "7 x 9 = 63 \n",
      "\n",
      "7 x 10 = 70 \n",
      "\n",
      "7 x 11 = 77 \n",
      "\n",
      "7 x 12 = 84 \n",
      "\n",
      "8 x 0 = 0 \n",
      "\n",
      "8 x 1 = 8 \n",
      "\n",
      "8 x 2 = 16 \n",
      "\n",
      "8 x 3 = 24 \n",
      "\n",
      "8 x 4 = 32 \n",
      "\n",
      "8 x 5 = 40 \n",
      "\n",
      "8 x 6 = 48 \n",
      "\n",
      "8 x 7 = 56 \n",
      "\n",
      "8 x 8 = 64 \n",
      "\n",
      "8 x 9 = 72 \n",
      "\n",
      "8 x 10 = 80 \n",
      "\n",
      "8 x 11 = 88 \n",
      "\n",
      "8 x 12 = 96 \n",
      "\n",
      "9 x 0 = 0 \n",
      "\n",
      "9 x 1 = 9 \n",
      "\n",
      "9 x 2 = 18 \n",
      "\n",
      "9 x 3 = 27 \n",
      "\n",
      "9 x 4 = 36 \n",
      "\n",
      "9 x 5 = 45 \n",
      "\n",
      "9 x 6 = 54 \n",
      "\n",
      "9 x 7 = 63 \n",
      "\n",
      "9 x 8 = 72 \n",
      "\n",
      "9 x 9 = 81 \n",
      "\n",
      "9 x 10 = 90 \n",
      "\n",
      "9 x 11 = 99 \n",
      "\n",
      "9 x 12 = 108 \n",
      "\n"
     ]
    }
   ],
   "source": [
    "multiplication(16)"
   ]
  },
  {
   "cell_type": "markdown",
   "id": "64a86575",
   "metadata": {},
   "source": [
    "## Exercice 13"
   ]
  },
  {
   "cell_type": "code",
   "execution_count": 67,
   "id": "fbcc359a",
   "metadata": {},
   "outputs": [
    {
     "name": "stdin",
     "output_type": "stream",
     "text": [
      "Saisir un nombre entier a :  8\n",
      "Saisir un nombre entier b :  9\n"
     ]
    },
    {
     "name": "stdout",
     "output_type": "stream",
     "text": [
      "Le quotient est 0 et le reste est 8\n"
     ]
    }
   ],
   "source": [
    "a = int(input(\"Saisir un nombre entier a : \"))\n",
    "b = int(input(\"Saisir un nombre entier b : \"))\n",
    "quotient, reste = divmod(a, b)\n",
    "print(f\"Le quotient est {quotient} et le reste est {reste}\")\n",
    "\n",
    "def qr(a,b):\n",
    "    if b==0:\n",
    "        print('Erreur ! Division par 0 !')\n",
    "    else:\n",
    "        print('Le quotient est:',a//b)\n",
    "        print('Le reste est:',a%b)"
   ]
  },
  {
   "cell_type": "code",
   "execution_count": 68,
   "id": "41b7a53a-2921-4957-8d1b-0c9811f62219",
   "metadata": {},
   "outputs": [
    {
     "name": "stdout",
     "output_type": "stream",
     "text": [
      "Erreur ! Division par 0 !\n"
     ]
    }
   ],
   "source": [
    "qr(2,0)"
   ]
  },
  {
   "cell_type": "markdown",
   "id": "f66a45dd",
   "metadata": {},
   "source": [
    "## Exercice 14"
   ]
  },
  {
   "cell_type": "code",
   "execution_count": 73,
   "id": "3bbdddc3",
   "metadata": {},
   "outputs": [
    {
     "name": "stdin",
     "output_type": "stream",
     "text": [
      "Saisir un nombre entier n :  8\n"
     ]
    },
    {
     "name": "stdout",
     "output_type": "stream",
     "text": [
      "8 n'est pas un carré parfait\n"
     ]
    }
   ],
   "source": [
    "import math\n",
    "n = int(input(\"Saisir un nombre entier n : \"))\n",
    "if math.isqrt(n) ** 2 == n:\n",
    "    print(f\"{n} est un carré parfait\")\n",
    "else:\n",
    "    print(f\"{n} n'est pas un carré parfait\")\n",
    "\n",
    "from math import *\n",
    "def carre(x):\n",
    "    if sqrt(x) == int(sqrt(x)):\n",
    "        print(x,\"est un carré parfait\")\n",
    "        return True\n",
    "    else:\n",
    "        print(x,\"n'est pas un carré parfait\")\n",
    "        return False"
   ]
  },
  {
   "cell_type": "code",
   "execution_count": 74,
   "id": "80bdc71c-7dd4-4709-85de-1541d96ca873",
   "metadata": {},
   "outputs": [
    {
     "name": "stdout",
     "output_type": "stream",
     "text": [
      "8 n'est pas un carré parfait\n"
     ]
    },
    {
     "data": {
      "text/plain": [
       "False"
      ]
     },
     "execution_count": 74,
     "metadata": {},
     "output_type": "execute_result"
    }
   ],
   "source": [
    "carre(8)"
   ]
  },
  {
   "cell_type": "markdown",
   "id": "0b0d4def",
   "metadata": {},
   "source": [
    "## Exercice 15"
   ]
  },
  {
   "cell_type": "code",
   "execution_count": 75,
   "id": "f86e3427",
   "metadata": {},
   "outputs": [
    {
     "name": "stdin",
     "output_type": "stream",
     "text": [
      "Saisir un nombre entier n :  9\n"
     ]
    },
    {
     "name": "stdout",
     "output_type": "stream",
     "text": [
      "9 n'est pas un nombre premier\n"
     ]
    }
   ],
   "source": [
    "n = int(input(\"Saisir un nombre entier n : \"))\n",
    "if n > 1 and all(n % i != 0 for i in range(2, int(n ** 0.5) + 1)):\n",
    "    print(f\"{n} est un nombre premier\")\n",
    "else:\n",
    "    print(f\"{n} n'est pas un nombre premier\")\n",
    "\n",
    "def premier(n):\n",
    "    s=0\n",
    "    for i in range(1,n):\n",
    "        if n%i == 0:\n",
    "            s+=1\n",
    "    if s>1:\n",
    "        print(n,'n\\'est pas premier')\n",
    "    else:\n",
    "        print(n,'est premier')"
   ]
  },
  {
   "cell_type": "code",
   "execution_count": 76,
   "id": "2f622c41-2a91-4f05-81d1-c286433a5d8e",
   "metadata": {},
   "outputs": [
    {
     "name": "stdout",
     "output_type": "stream",
     "text": [
      "9 n'est pas premier\n"
     ]
    }
   ],
   "source": [
    "premier(9)"
   ]
  },
  {
   "cell_type": "markdown",
   "id": "dc5d2901",
   "metadata": {},
   "source": [
    "## Exercice 16"
   ]
  },
  {
   "cell_type": "code",
   "execution_count": 77,
   "id": "618d4f93",
   "metadata": {},
   "outputs": [
    {
     "name": "stdout",
     "output_type": "stream",
     "text": [
      "P\n",
      "y\n",
      "t\n",
      "h\n",
      "o\n",
      "n\n"
     ]
    }
   ],
   "source": [
    "s = \"Python\"\n",
    "for char in s:\n",
    "    print(char)\n",
    "\n",
    "def hash(msg):\n",
    "    for i in msg:\n",
    "        print(i)"
   ]
  },
  {
   "cell_type": "code",
   "execution_count": 78,
   "id": "e24ccd54-0861-4a06-8b66-621fad8d7149",
   "metadata": {},
   "outputs": [
    {
     "name": "stdout",
     "output_type": "stream",
     "text": [
      "B\n",
      "i\n",
      "e\n",
      "n\n",
      "v\n",
      "e\n",
      " \n",
      "à\n",
      " \n",
      "l\n",
      "'\n",
      "I\n",
      "U\n",
      "T\n"
     ]
    }
   ],
   "source": [
    "hash(\"Bienve à l'IUT\")"
   ]
  },
  {
   "cell_type": "markdown",
   "id": "bd809da2",
   "metadata": {},
   "source": [
    "## Exercice 17"
   ]
  },
  {
   "cell_type": "code",
   "execution_count": 79,
   "id": "7814bbf7",
   "metadata": {},
   "outputs": [
    {
     "name": "stdout",
     "output_type": "stream",
     "text": [
      "Le caractère 'P' figure 1 fois dans la chaine.\n",
      "Le caractère 'y' figure 1 fois dans la chaine.\n",
      "Le caractère 't' figure 1 fois dans la chaine.\n",
      "Le caractère 'h' figure 1 fois dans la chaine.\n",
      "Le caractère 'o' figure 2 fois dans la chaine.\n",
      "Le caractère 'n' figure 1 fois dans la chaine.\n",
      "Le caractère '.' figure 1 fois dans la chaine.\n",
      "Le caractère 'r' figure 1 fois dans la chaine.\n",
      "Le caractère 'g' figure 1 fois dans la chaine.\n"
     ]
    }
   ],
   "source": [
    "s = \"Python.org\"\n",
    "occurrences = {}\n",
    "for char in s:\n",
    "    occurrences[char] = occurrences.get(char, 0) + 1\n",
    "for char, count in occurrences.items():\n",
    "    print(f\"Le caractère '{char}' figure {count} fois dans la chaine.\")\n",
    "\n",
    "def ocur(mot):\n",
    "    tab = {}\n",
    "    for i in mot:\n",
    "        if i in tab:\n",
    "            tab[i] += 1\n",
    "        else:\n",
    "            tab[i] = 1\n",
    "    for i, count in tab.items():\n",
    "        if count == 1:\n",
    "            print(f\"Le caractè {i} apparaît : {count} fois dans la chaine \\\"{mot}\\\"\")\n",
    "        else:\n",
    "            print(f\"Le caractè {i} apparaît : {count} fois dans la chaine \\\"{mot}\\\"\")"
   ]
  },
  {
   "cell_type": "code",
   "execution_count": 80,
   "id": "30835865-197c-4267-bdb7-f9e962c17e27",
   "metadata": {},
   "outputs": [
    {
     "name": "stdout",
     "output_type": "stream",
     "text": [
      "Le caractè T apparaît : 1 fois dans la chaine \"Test hexagonal\"\n",
      "Le caractè e apparaît : 2 fois dans la chaine \"Test hexagonal\"\n",
      "Le caractè s apparaît : 1 fois dans la chaine \"Test hexagonal\"\n",
      "Le caractè t apparaît : 1 fois dans la chaine \"Test hexagonal\"\n",
      "Le caractè   apparaît : 1 fois dans la chaine \"Test hexagonal\"\n",
      "Le caractè h apparaît : 1 fois dans la chaine \"Test hexagonal\"\n",
      "Le caractè x apparaît : 1 fois dans la chaine \"Test hexagonal\"\n",
      "Le caractè a apparaît : 2 fois dans la chaine \"Test hexagonal\"\n",
      "Le caractè g apparaît : 1 fois dans la chaine \"Test hexagonal\"\n",
      "Le caractè o apparaît : 1 fois dans la chaine \"Test hexagonal\"\n",
      "Le caractè n apparaît : 1 fois dans la chaine \"Test hexagonal\"\n",
      "Le caractè l apparaît : 1 fois dans la chaine \"Test hexagonal\"\n"
     ]
    }
   ],
   "source": [
    "ocur('Test hexagonal')"
   ]
  },
  {
   "cell_type": "markdown",
   "id": "83f17c33",
   "metadata": {},
   "source": [
    "## Exercice 18"
   ]
  },
  {
   "cell_type": "code",
   "execution_count": 82,
   "id": "d82756dd",
   "metadata": {},
   "outputs": [
    {
     "name": "stdin",
     "output_type": "stream",
     "text": [
      "Saisir une chaine :  Bienvenue\n"
     ]
    },
    {
     "name": "stdout",
     "output_type": "stream",
     "text": [
      "La lettre 'a' n'est pas présente dans la chaine.\n"
     ]
    }
   ],
   "source": [
    "s = input(\"Saisir une chaine : \")\n",
    "positions = [i for i, char in enumerate(s) if char == 'a']\n",
    "if positions:\n",
    "    for pos in positions:\n",
    "        print(f\"La lettre 'a' se trouve à la position : {pos}\")\n",
    "else:\n",
    "    print(\"La lettre 'a' n'est pas présente dans la chaine.\")"
   ]
  },
  {
   "cell_type": "code",
   "execution_count": 83,
   "id": "1725abc0-4318-4cc8-ad06-8e1e774b55c4",
   "metadata": {},
   "outputs": [
    {
     "name": "stdin",
     "output_type": "stream",
     "text": [
      "Saisir une chaine :  Bienvenue à l'acceuil\n"
     ]
    },
    {
     "name": "stdout",
     "output_type": "stream",
     "text": [
      "La lettre 'a' se trouve à la position : 14\n"
     ]
    }
   ],
   "source": [
    "s = input(\"Saisir une chaine : \")\n",
    "positions = [i for i, char in enumerate(s) if char == 'a']\n",
    "if positions:\n",
    "    for pos in positions:\n",
    "        print(f\"La lettre 'a' se trouve à la position : {pos}\")\n",
    "else:\n",
    "    print(\"La lettre 'a' n'est pas présente dans la chaine.\")"
   ]
  },
  {
   "cell_type": "markdown",
   "id": "2942dc36",
   "metadata": {},
   "source": [
    "## Exercice 19"
   ]
  },
  {
   "cell_type": "code",
   "execution_count": 88,
   "id": "f71885f5",
   "metadata": {},
   "outputs": [
    {
     "name": "stdout",
     "output_type": "stream",
     "text": [
      "\"Mobile\" à pour longueur : 6\n",
      "\"Samsung\" à pour longueur : 7\n",
      "\"Téléviseur\" à pour longueur : 10\n"
     ]
    }
   ],
   "source": [
    "l = [\"Mobile\", \"Samsung\", \"Téléviseur\"]\n",
    "for item in l:\n",
    "    print(f\"\\\"{item}\\\" à pour longueur : {len(item)}\")"
   ]
  },
  {
   "cell_type": "markdown",
   "id": "be99b0fa",
   "metadata": {},
   "source": [
    "## Exercice 20"
   ]
  },
  {
   "cell_type": "code",
   "execution_count": 89,
   "id": "23fc1775",
   "metadata": {},
   "outputs": [
    {
     "name": "stdin",
     "output_type": "stream",
     "text": [
      "Saisir une chaine :  Apocalypse\n"
     ]
    },
    {
     "name": "stdout",
     "output_type": "stream",
     "text": [
      "Résultat : epocalypsA\n"
     ]
    }
   ],
   "source": [
    "s = input(\"Saisir une chaine : \")\n",
    "s = s[-1] + s[1:-1] + s[0] if len(s) > 1 else s\n",
    "print(\"Résultat :\", s)"
   ]
  },
  {
   "cell_type": "markdown",
   "id": "ecf300f4",
   "metadata": {},
   "source": [
    "## Exercice 21"
   ]
  },
  {
   "cell_type": "code",
   "execution_count": 91,
   "id": "44be4bca",
   "metadata": {},
   "outputs": [
    {
     "name": "stdout",
     "output_type": "stream",
     "text": [
      "La chaine 'Intergouvernementalisation' possède 11 voyelles.\n"
     ]
    }
   ],
   "source": [
    "s = \"Intergouvernementalisation\"\n",
    "voyelles = \"aeiouy\"\n",
    "nb_voyelles = sum(1 for char in s if char in voyelles)\n",
    "print(f\"La chaine '{s}' possède {nb_voyelles} voyelles.\")"
   ]
  },
  {
   "cell_type": "markdown",
   "id": "47456755",
   "metadata": {},
   "source": [
    "## Exercice 22"
   ]
  },
  {
   "cell_type": "code",
   "execution_count": 93,
   "id": "3e45d9f1",
   "metadata": {},
   "outputs": [
    {
     "name": "stdout",
     "output_type": "stream",
     "text": [
      "Le premier mot est : Python\n"
     ]
    }
   ],
   "source": [
    "t = \"Python est un excellent langage de programmation, tre flexible\"\n",
    "print(\"Le premier mot est :\", t.split()[0])"
   ]
  },
  {
   "cell_type": "markdown",
   "id": "9a27d31d",
   "metadata": {},
   "source": [
    "## Exercice 23"
   ]
  },
  {
   "cell_type": "code",
   "execution_count": 96,
   "id": "b53e74e0",
   "metadata": {},
   "outputs": [
    {
     "name": "stdin",
     "output_type": "stream",
     "text": [
      "Saisir le nom d'un fichier :  nom.exemple\n"
     ]
    },
    {
     "name": "stdout",
     "output_type": "stream",
     "text": [
      "L'extension du fichier est : .exemple\n"
     ]
    }
   ],
   "source": [
    "fichier = input(\"Saisir le nom d'un fichier : \")\n",
    "extension = fichier.split('.')[-1]\n",
    "print(f\"L'extension du fichier est : .{extension}\")"
   ]
  },
  {
   "cell_type": "markdown",
   "id": "ea9cf361",
   "metadata": {},
   "source": [
    "## Exercice 24"
   ]
  },
  {
   "cell_type": "code",
   "execution_count": 97,
   "id": "077814ff",
   "metadata": {},
   "outputs": [
    {
     "name": "stdin",
     "output_type": "stream",
     "text": [
      "Saisir un mot :  Languiner\n"
     ]
    },
    {
     "name": "stdout",
     "output_type": "stream",
     "text": [
      "Languiner n'est pas un palindrome\n"
     ]
    }
   ],
   "source": [
    "mot = input(\"Saisir un mot : \")\n",
    "if mot == mot[::-1]:\n",
    "    print(f\"{mot} est un palindrome\")\n",
    "else:\n",
    "    print(f\"{mot} n'est pas un palindrome\")"
   ]
  },
  {
   "cell_type": "code",
   "execution_count": 117,
   "id": "b2468ee1-a514-4062-8501-54ab7d17df41",
   "metadata": {},
   "outputs": [
    {
     "name": "stdin",
     "output_type": "stream",
     "text": [
      "Saisir un mot :  Ressasser\n"
     ]
    },
    {
     "name": "stdout",
     "output_type": "stream",
     "text": [
      "Ressasser est un palindrome\n"
     ]
    }
   ],
   "source": [
    "mot = input(\"Saisir un mot : \")\n",
    "# str = mot.lower()\n",
    "if str.lower() == str[::-1].lower():\n",
    "    print(f\"{mot} est un palindrome\")\n",
    "else:\n",
    "    print(f\"{mot} n'est pas un palindrome\")"
   ]
  },
  {
   "cell_type": "markdown",
   "id": "b98186c3",
   "metadata": {},
   "source": [
    "## Exercice 25"
   ]
  },
  {
   "cell_type": "code",
   "execution_count": 118,
   "id": "111b80fd",
   "metadata": {},
   "outputs": [
    {
     "name": "stdin",
     "output_type": "stream",
     "text": [
      "Saisir un mot :  Respirer\n"
     ]
    },
    {
     "name": "stdout",
     "output_type": "stream",
     "text": [
      "L'inverse est : reripseR\n"
     ]
    }
   ],
   "source": [
    "mot = input(\"Saisir un mot : \")\n",
    "print(\"L'inverse est :\", mot[::-1])"
   ]
  },
  {
   "cell_type": "markdown",
   "id": "cc7c06d2",
   "metadata": {},
   "source": [
    "## Exercice 26"
   ]
  },
  {
   "cell_type": "code",
   "execution_count": 119,
   "id": "5d76cd37",
   "metadata": {},
   "outputs": [
    {
     "name": "stdin",
     "output_type": "stream",
     "text": [
      "Saisir un texte :  La candella\n"
     ]
    },
    {
     "name": "stdout",
     "output_type": "stream",
     "text": [
      "Mots commençant par 'a' : []\n"
     ]
    }
   ],
   "source": [
    "texte = input(\"Saisir un texte : \")\n",
    "mots = [mot for mot in texte.split() if mot.startswith('a')]\n",
    "print(\"Mots commençant par 'a' :\", mots)"
   ]
  },
  {
   "cell_type": "code",
   "execution_count": 125,
   "id": "86dc3986-01f4-4715-8ef2-d52d6b7540d0",
   "metadata": {},
   "outputs": [
    {
     "name": "stdin",
     "output_type": "stream",
     "text": [
      "Saisir un texte :  À la recherche du Basaltique, Jonathan a été assomé\n"
     ]
    },
    {
     "name": "stdout",
     "output_type": "stream",
     "text": [
      "Mots commençant par 'a' : ['a', 'assomé']\n"
     ]
    }
   ],
   "source": [
    "texte = input(\"Saisir un texte : \").lower()\n",
    "mots = [mot for mot in texte.split() if mot.startswith('a')]\n",
    "print(\"Mots commençant par 'a' :\", mots)"
   ]
  },
  {
   "cell_type": "markdown",
   "id": "10889eb4",
   "metadata": {},
   "source": [
    "## Exercice 27"
   ]
  },
  {
   "cell_type": "code",
   "execution_count": 126,
   "id": "d1d31ae9",
   "metadata": {},
   "outputs": [
    {
     "name": "stdout",
     "output_type": "stream",
     "text": [
      "Somme : 6\n",
      "Produit : 6\n"
     ]
    }
   ],
   "source": [
    "def somme_liste(l):\n",
    "    return sum(l)\n",
    "\n",
    "def produit_liste(l):\n",
    "    produit = 1\n",
    "    for num in l:\n",
    "        produit *= num\n",
    "    return produit\n",
    "\n",
    "print(\"Somme :\", somme_liste([1, 2, 3]))\n",
    "print(\"Produit :\", produit_liste([1, 2, 3]))"
   ]
  },
  {
   "cell_type": "markdown",
   "id": "b30f0fff",
   "metadata": {},
   "source": [
    "## Exercice 28"
   ]
  },
  {
   "cell_type": "code",
   "execution_count": 127,
   "id": "066b70e1",
   "metadata": {},
   "outputs": [
    {
     "name": "stdout",
     "output_type": "stream",
     "text": [
      "Liste vide: True\n",
      "Chaine vide: True\n"
     ]
    }
   ],
   "source": [
    "def est_vide(obj):\n",
    "    return len(obj) == 0\n",
    "\n",
    "print(\"Liste vide:\", est_vide([]))\n",
    "print(\"Chaine vide:\", est_vide(\"\"))"
   ]
  },
  {
   "cell_type": "markdown",
   "id": "8088181c",
   "metadata": {},
   "source": [
    "## Exercice 29"
   ]
  },
  {
   "cell_type": "code",
   "execution_count": 128,
   "id": "8bb10f58",
   "metadata": {},
   "outputs": [
    {
     "name": "stdout",
     "output_type": "stream",
     "text": [
      "Sans doublons : [1, 2, 3, 4]\n"
     ]
    }
   ],
   "source": [
    "def supprimer_duplicats(l):\n",
    "    return list(set(l))\n",
    "\n",
    "print(\"Sans doublons :\", supprimer_duplicats([1, 2, 2, 3, 3, 3, 4]))"
   ]
  },
  {
   "cell_type": "markdown",
   "id": "ba8ded14",
   "metadata": {},
   "source": [
    "## Exercice 30"
   ]
  },
  {
   "cell_type": "code",
   "execution_count": 129,
   "id": "4de57c8d",
   "metadata": {},
   "outputs": [
    {
     "name": "stdout",
     "output_type": "stream",
     "text": [
      "Valeur commune : True\n"
     ]
    }
   ],
   "source": [
    "def ont_valeur_commune(l1, l2):\n",
    "    return bool(set(l1) & set(l2))\n",
    "\n",
    "# Exemple\n",
    "print(\"Valeur commune :\", ont_valeur_commune([1, 2, 3], [3, 4, 5]))"
   ]
  },
  {
   "cell_type": "markdown",
   "id": "aa66e990",
   "metadata": {},
   "source": [
    "## Exercice 31"
   ]
  },
  {
   "cell_type": "code",
   "execution_count": 131,
   "id": "1cb74e5b",
   "metadata": {},
   "outputs": [
    {
     "name": "stdout",
     "output_type": "stream",
     "text": [
      "Pairs et Impairs : ([2, 4], [1, 3, 5])\n"
     ]
    }
   ],
   "source": [
    "def extraire_pairs_impairs(l):\n",
    "    pairs = [x for x in l if x % 2 == 0]\n",
    "    impairs = [x for x in l if x % 2 != 0]\n",
    "    return pairs, impairs\n",
    "\n",
    "# Exemple\n",
    "print(\"Pairs et Impairs :\", extraire_pairs_impairs([1, 2, 3, 4, 5]))"
   ]
  },
  {
   "cell_type": "markdown",
   "id": "495aee77",
   "metadata": {},
   "source": [
    "## Exercice 32"
   ]
  },
  {
   "cell_type": "code",
   "execution_count": 132,
   "id": "6ab364e8",
   "metadata": {},
   "outputs": [
    {
     "name": "stdout",
     "output_type": "stream",
     "text": [
      "Permutations : [(1, 2, 3), (1, 3, 2), (2, 1, 3), (2, 3, 1), (3, 1, 2), (3, 2, 1)]\n"
     ]
    }
   ],
   "source": [
    "from itertools import permutations\n",
    "\n",
    "def permuter_elements(l):\n",
    "    return list(permutations(l))\n",
    "\n",
    "# Exemple\n",
    "print(\"Permutations :\", permuter_elements([1, 2, 3]))"
   ]
  },
  {
   "cell_type": "markdown",
   "id": "402711a7",
   "metadata": {},
   "source": [
    "## Exercice 33"
   ]
  },
  {
   "cell_type": "code",
   "execution_count": 133,
   "id": "146f25c7",
   "metadata": {},
   "outputs": [
    {
     "name": "stdin",
     "output_type": "stream",
     "text": [
      "Saisir une chaine :  @#$%^&\n"
     ]
    },
    {
     "name": "stdout",
     "output_type": "stream",
     "text": [
      "Caractères d'indice pair : @$^\n"
     ]
    }
   ],
   "source": [
    "s = input(\"Saisir une chaine : \")\n",
    "print(\"Caractères d'indice pair :\", s[::2])"
   ]
  },
  {
   "cell_type": "markdown",
   "id": "c66776b7",
   "metadata": {},
   "source": [
    "## Exercice 34"
   ]
  },
  {
   "cell_type": "code",
   "execution_count": 134,
   "id": "a3a36c1c",
   "metadata": {},
   "outputs": [
    {
     "name": "stdout",
     "output_type": "stream",
     "text": [
      "Notes au-dessus de la moyenne : [12, 14, 11, 18, 13, 10, 15, 14, 16]\n"
     ]
    }
   ],
   "source": [
    "notes = [12, 4, 14, 11, 18, 13, 7, 10, 5, 9, 15, 8, 14, 16]\n",
    "au_dessus_moyenne = [note for note in notes if note >= 10]\n",
    "print(\"Notes au-dessus de la moyenne :\", au_dessus_moyenne)"
   ]
  },
  {
   "cell_type": "markdown",
   "id": "779bcc77",
   "metadata": {},
   "source": [
    "## Exercice 35"
   ]
  },
  {
   "cell_type": "code",
   "execution_count": 135,
   "id": "53797a62",
   "metadata": {},
   "outputs": [
    {
     "name": "stdin",
     "output_type": "stream",
     "text": [
      "Saisir une URL :  Python.org\n"
     ]
    },
    {
     "name": "stdout",
     "output_type": "stream",
     "text": [
      "<a href='Python.org'>Python.org</a>\n"
     ]
    }
   ],
   "source": [
    "url = input(\"Saisir une URL : \")\n",
    "print(f\"<a href='{url}'>{url}</a>\")"
   ]
  },
  {
   "cell_type": "markdown",
   "id": "016fa1ce",
   "metadata": {},
   "source": [
    "## Exercice 36"
   ]
  },
  {
   "cell_type": "code",
   "execution_count": 136,
   "id": "4f529513",
   "metadata": {},
   "outputs": [
    {
     "name": "stdin",
     "output_type": "stream",
     "text": [
      "Saisir une chaine avec espaces multiples :  À la recherche du Basaltique\n"
     ]
    },
    {
     "name": "stdout",
     "output_type": "stream",
     "text": [
      "Sans espaces multiples : À la recherche du Basaltique\n"
     ]
    }
   ],
   "source": [
    "s = input(\"Saisir une chaine avec espaces multiples : \")\n",
    "s_sans_espaces_multiples = ' '.join(s.split())\n",
    "print(\"Sans espaces multiples :\", s_sans_espaces_multiples)"
   ]
  },
  {
   "cell_type": "code",
   "execution_count": 137,
   "id": "002e0954-b357-410f-9b56-1a23a13622f8",
   "metadata": {},
   "outputs": [
    {
     "name": "stdin",
     "output_type": "stream",
     "text": [
      "Saisir une chaine avec espaces multiples :  À     la         nage\n"
     ]
    },
    {
     "name": "stdout",
     "output_type": "stream",
     "text": [
      "Sans espaces multiples : À la nage\n"
     ]
    }
   ],
   "source": [
    "s = input(\"Saisir une chaine avec espaces multiples : \")\n",
    "s_sans_espaces_multiples = ' '.join(s.split())\n",
    "print(\"Sans espaces multiples :\", s_sans_espaces_multiples)\n"
   ]
  },
  {
   "cell_type": "markdown",
   "id": "21e67412",
   "metadata": {},
   "source": [
    "## Exercice 37"
   ]
  },
  {
   "cell_type": "code",
   "execution_count": 139,
   "id": "f3de9e55",
   "metadata": {},
   "outputs": [
    {
     "name": "stdout",
     "output_type": "stream",
     "text": [
      "Mots communs : ['un', 'Python', 'est']\n"
     ]
    }
   ],
   "source": [
    "s1 = \"Python est un langage de programmation\"\n",
    "s2 = \"Python est un orienté objet\"\n",
    "mots_communs = list(set(s1.split()) & set(s2.split()))\n",
    "print(\"Mots communs :\", mots_communs)"
   ]
  },
  {
   "cell_type": "markdown",
   "id": "568b0866",
   "metadata": {},
   "source": [
    "## Exercice 38"
   ]
  },
  {
   "cell_type": "code",
   "execution_count": null,
   "id": "abf4e243-63d0-4f95-bca0-16f60aabecc1",
   "metadata": {},
   "outputs": [],
   "source": [
    "s = input(\"Saisir une chaine : \")\n",
    "mot_le_plus_long = max(s.split(), key=lenlen)\n",
    "print(\"Mot le plus long :\", mot_le_plus_long)"
   ]
  },
  {
   "cell_type": "markdown",
   "id": "4f929958",
   "metadata": {},
   "source": [
    "## Exercice 39"
   ]
  },
  {
   "cell_type": "code",
   "execution_count": 169,
   "id": "2eae9832",
   "metadata": {},
   "outputs": [
    {
     "name": "stdin",
     "output_type": "stream",
     "text": [
      "Saisir une chaine :  Logarithme\n"
     ]
    },
    {
     "name": "stdout",
     "output_type": "stream",
     "text": [
      "Nombre de mots : 1\n"
     ]
    }
   ],
   "source": [
    "s = input(\"Saisir une chaine : \")\n",
    "nombre_mots = len(s.split())\n",
    "print(\"Nombre de mots :\", nombre_mots)"
   ]
  },
  {
   "cell_type": "markdown",
   "id": "699e563b",
   "metadata": {},
   "source": [
    "## Exercice 40"
   ]
  },
  {
   "cell_type": "code",
   "execution_count": 170,
   "id": "b4fbb888",
   "metadata": {},
   "outputs": [
    {
     "name": "stdout",
     "output_type": "stream",
     "text": [
      "Chaine avec premier et dernier mot échangés : programmation est un langage de Python\n"
     ]
    }
   ],
   "source": [
    "s = \"Python est un langage de programmation\"\n",
    "mots = s.split()\n",
    "mots[0], mots[-1] = mots[-1], mots[0]\n",
    "s_echangee = ' '.join(mots)\n",
    "print(\"Chaine avec premier et dernier mot échangés :\", s_echangee)"
   ]
  },
  {
   "cell_type": "markdown",
   "id": "f72e8bd1",
   "metadata": {},
   "source": [
    "## Exercice 41"
   ]
  },
  {
   "cell_type": "code",
   "execution_count": 172,
   "id": "5ac665cc",
   "metadata": {},
   "outputs": [
    {
     "name": "stdout",
     "output_type": "stream",
     "text": [
      "Nombre d'éléments divisibles : 2\n"
     ]
    }
   ],
   "source": [
    "def nombreDivisibles(l, n):\n",
    "    return sum(1 for x in l if x % n == 0)\n",
    "\n",
    "# Exemple\n",
    "print(\"Nombre d'éléments divisibles :\", nombreDivisibles([1, 89, 16, 98], 2))"
   ]
  },
  {
   "cell_type": "markdown",
   "id": "0e34596e",
   "metadata": {},
   "source": [
    "## Exercice 42"
   ]
  },
  {
   "cell_type": "code",
   "execution_count": 173,
   "id": "7e03b089",
   "metadata": {},
   "outputs": [
    {
     "name": "stdout",
     "output_type": "stream",
     "text": [
      "Nombre d'occurrences : 2\n"
     ]
    }
   ],
   "source": [
    "def nombreOccurences(L, x):\n",
    "    return sum(1 for i in L if i == x)\n",
    "\n",
    "# Exemple\n",
    "print(\"Nombre d'occurrences :\", nombreOccurences([16, 2, 90, 3, 2], 2))"
   ]
  },
  {
   "cell_type": "markdown",
   "id": "00e8ffee",
   "metadata": {},
   "source": [
    "## Exercice 43"
   ]
  },
  {
   "cell_type": "code",
   "execution_count": 177,
   "id": "8dbb6f70",
   "metadata": {},
   "outputs": [
    {
     "name": "stdout",
     "output_type": "stream",
     "text": [
      "Insertion : P*y*t*h*o*n* *&* *p*h*p\n"
     ]
    }
   ],
   "source": [
    "def etoiles(s):\n",
    "    return '*'.join(s)\n",
    "\n",
    "# Exemple\n",
    "print(\"Insertion :\", etoiles(\"Python & php\"))"
   ]
  },
  {
   "cell_type": "markdown",
   "id": "6dde41ab",
   "metadata": {},
   "source": [
    "## Exercice 44"
   ]
  },
  {
   "cell_type": "code",
   "execution_count": 178,
   "id": "acea74a7",
   "metadata": {},
   "outputs": [
    {
     "name": "stdout",
     "output_type": "stream",
     "text": [
      "Liste en majuscule : ['PYTHON', 'EST', 'UN', 'LANGAGE', 'DE', 'PROGRAMMATION']\n"
     ]
    }
   ],
   "source": [
    "def Majuscule(L):\n",
    "    return [mot.upper() for mot in L]\n",
    "\n",
    "# Exemple\n",
    "L = [\"Python\", \"est\", \"un\", \"langage\", \"de\", \"programmation\"]\n",
    "print(\"Liste en majuscule :\", Majuscule(L))"
   ]
  },
  {
   "cell_type": "markdown",
   "id": "f611e581",
   "metadata": {},
   "source": [
    "## Exercice 45"
   ]
  },
  {
   "cell_type": "code",
   "execution_count": 181,
   "id": "38b5dc54",
   "metadata": {},
   "outputs": [
    {
     "name": "stdout",
     "output_type": "stream",
     "text": [
      "Majuscules et minuscules : (5, 18)\n"
     ]
    }
   ],
   "source": [
    "def compter(s):\n",
    "    nb_majuscules = sum(1 for c in s if c.isupper())\n",
    "    nb_minuscules = sum(1 for c in s if c.islower())\n",
    "    return nb_majuscules, nb_minuscules\n",
    "\n",
    "# Exemple\n",
    "print(\"Majuscules et minuscules :\", compter(\"BienVenueAvecCarmelCase\"))"
   ]
  },
  {
   "cell_type": "markdown",
   "id": "c1fb8451",
   "metadata": {},
   "source": [
    "## Exercice 46"
   ]
  },
  {
   "cell_type": "code",
   "execution_count": 183,
   "id": "8ef3eea8",
   "metadata": {},
   "outputs": [
    {
     "name": "stdout",
     "output_type": "stream",
     "text": [
      "Chiffres du nombre : [9, 8, 7, 6, 5, 4]\n"
     ]
    }
   ],
   "source": [
    "def extraction(n):\n",
    "    chiffres = []\n",
    "    while n > 0:\n",
    "        chiffres.append(n % 10)\n",
    "        n //= 10\n",
    "    return chiffres[::-1]\n",
    "\n",
    "# Exemple\n",
    "print(\"Chiffres du nombre :\", extraction(987654))"
   ]
  },
  {
   "cell_type": "markdown",
   "id": "6186bb93",
   "metadata": {},
   "source": [
    "## Exercice 47"
   ]
  },
  {
   "cell_type": "code",
   "execution_count": 185,
   "id": "9f13ecc4",
   "metadata": {},
   "outputs": [
    {
     "name": "stdout",
     "output_type": "stream",
     "text": [
      "Mots communs : ['Python']\n"
     ]
    }
   ],
   "source": [
    "def mots_communs(t1, t2):\n",
    "    t1 = set(t1.split())\n",
    "    t2 = set(t2.split())\n",
    "    return list(t1 & t2)\n",
    "\n",
    "# Exemple\n",
    "Txt1 = \"Je peux vous aidez avec Python\"\n",
    "Txt2 = \"Python est un langage orienté objet\"\n",
    "print(\"Mots communs :\", mots_communs(Txt1, Txt2))"
   ]
  },
  {
   "cell_type": "code",
   "execution_count": null,
   "id": "99c060f7-1df0-401b-b415-a3c8fd302da5",
   "metadata": {},
   "outputs": [],
   "source": []
  }
 ],
 "metadata": {
  "kernelspec": {
   "display_name": "Python 3 (ipykernel)",
   "language": "python",
   "name": "python3"
  },
  "language_info": {
   "codemirror_mode": {
    "name": "ipython",
    "version": 3
   },
   "file_extension": ".py",
   "mimetype": "text/x-python",
   "name": "python",
   "nbconvert_exporter": "python",
   "pygments_lexer": "ipython3",
   "version": "3.10.12"
  }
 },
 "nbformat": 4,
 "nbformat_minor": 5
}
